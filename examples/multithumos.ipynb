{
 "cells": [
  {
   "cell_type": "code",
   "execution_count": null,
   "id": "0",
   "metadata": {},
   "outputs": [],
   "source": [
    "%matplotlib inline"
   ]
  },
  {
   "cell_type": "code",
   "execution_count": null,
   "id": "1",
   "metadata": {},
   "outputs": [],
   "source": [
    "import os\n",
    "import matplotlib.pyplot as plt\n",
    "import polars as pl\n",
    "from pathlib import Path\n",
    "\n",
    "import coola\n",
    "from coola.utils import str_mapping"
   ]
  },
  {
   "cell_type": "code",
   "execution_count": null,
   "id": "2",
   "metadata": {},
   "outputs": [],
   "source": [
    "plt.style.use(\"bmh\")\n",
    "plt.rcParams[\"figure.figsize\"] = (16, 5)"
   ]
  },
  {
   "cell_type": "code",
   "execution_count": null,
   "id": "3",
   "metadata": {},
   "outputs": [],
   "source": [
    "from arctix.dataset.multithumos import Column, fetch_data, prepare_data, to_array"
   ]
  },
  {
   "cell_type": "code",
   "execution_count": null,
   "id": "4",
   "metadata": {},
   "outputs": [],
   "source": [
    "# Define the path where to store/load the raw data\n",
    "data_path = Path(os.environ[\"ARCTIX_DATA_PATH\"]).joinpath(\"multithumos\")"
   ]
  },
  {
   "cell_type": "markdown",
   "id": "5",
   "metadata": {},
   "source": [
    "## Load raw data"
   ]
  },
  {
   "cell_type": "code",
   "execution_count": null,
   "id": "6",
   "metadata": {},
   "outputs": [],
   "source": [
    "data_raw = fetch_data(data_path)\n",
    "data_raw"
   ]
  },
  {
   "cell_type": "code",
   "execution_count": null,
   "id": "7",
   "metadata": {},
   "outputs": [],
   "source": [
    "data_raw.describe()"
   ]
  },
  {
   "cell_type": "markdown",
   "id": "8",
   "metadata": {},
   "source": [
    "## Analyze raw data"
   ]
  },
  {
   "cell_type": "code",
   "execution_count": null,
   "id": "9",
   "metadata": {},
   "outputs": [],
   "source": [
    "group_len = data_raw.group_by([Column.VIDEO]).len()\n",
    "group_len"
   ]
  },
  {
   "cell_type": "code",
   "execution_count": null,
   "id": "10",
   "metadata": {},
   "outputs": [],
   "source": [
    "max_len = group_len.select(pl.col(\"len\")).max().item()\n",
    "min_len = group_len.select(pl.col(\"len\")).min().item()\n",
    "nbins = max_len - min_len + 1\n",
    "print(f\"min={min_len}  max={max_len}  nbins={nbins}\")\n",
    "\n",
    "fig, ax = plt.subplots()\n",
    "_ = ax.hist(group_len.select(pl.col(\"len\")), bins=nbins, range=[min_len, max_len])\n",
    "\n",
    "_ = ax.set_title(\"distribution of sequence length\")\n",
    "_ = ax.set_xlabel(\"sequence length\")\n",
    "_ = ax.set_ylabel(\"count\")"
   ]
  },
  {
   "cell_type": "code",
   "execution_count": null,
   "id": "11",
   "metadata": {},
   "outputs": [],
   "source": [
    "num_actions = data_raw.select(pl.col(Column.ACTION)).n_unique()\n",
    "fig, ax = plt.subplots()\n",
    "_ = ax.hist(data_raw.select(pl.col(Column.ACTION)), bins=num_actions)\n",
    "\n",
    "_ = ax.set_title(\"distribution of actions\")\n",
    "_ = ax.set_xlabel(\"action\")\n",
    "_ = ax.set_ylabel(\"count\")\n",
    "_ = ax.tick_params(axis=\"x\", labelrotation=90)"
   ]
  },
  {
   "cell_type": "markdown",
   "id": "12",
   "metadata": {},
   "source": [
    "## Prepare data"
   ]
  },
  {
   "cell_type": "code",
   "execution_count": null,
   "id": "13",
   "metadata": {},
   "outputs": [],
   "source": [
    "data, metadata = prepare_data(data_raw, split=\"validation\")\n",
    "data"
   ]
  },
  {
   "cell_type": "code",
   "execution_count": null,
   "id": "14",
   "metadata": {},
   "outputs": [],
   "source": [
    "print(str_mapping(metadata))"
   ]
  },
  {
   "cell_type": "code",
   "execution_count": null,
   "id": "15",
   "metadata": {},
   "outputs": [],
   "source": [
    "arrays = to_array(data)"
   ]
  },
  {
   "cell_type": "code",
   "execution_count": null,
   "id": "16",
   "metadata": {},
   "outputs": [],
   "source": [
    "print(coola.summary(arrays))"
   ]
  },
  {
   "cell_type": "code",
   "execution_count": null,
   "id": "17",
   "metadata": {},
   "outputs": [],
   "source": [
    "print(str_mapping(arrays))"
   ]
  }
 ],
 "metadata": {
  "kernelspec": {
   "display_name": "Python 3 (ipykernel)",
   "language": "python",
   "name": "python3"
  },
  "language_info": {
   "codemirror_mode": {
    "name": "ipython",
    "version": 3
   },
   "file_extension": ".py",
   "mimetype": "text/x-python",
   "name": "python",
   "nbconvert_exporter": "python",
   "pygments_lexer": "ipython3",
   "version": "3.12.2"
  }
 },
 "nbformat": 4,
 "nbformat_minor": 5
}
