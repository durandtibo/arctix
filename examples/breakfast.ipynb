{
 "cells": [
  {
   "cell_type": "code",
   "execution_count": null,
   "id": "0",
   "metadata": {},
   "outputs": [],
   "source": [
    "%matplotlib inline"
   ]
  },
  {
   "cell_type": "code",
   "execution_count": null,
   "id": "1",
   "metadata": {},
   "outputs": [],
   "source": [
    "import os\n",
    "import matplotlib.pyplot as plt\n",
    "import polars as pl\n",
    "from pathlib import Path\n",
    "\n",
    "import coola\n",
    "from coola.utils import str_mapping"
   ]
  },
  {
   "cell_type": "code",
   "execution_count": null,
   "id": "2",
   "metadata": {},
   "outputs": [],
   "source": [
    "plt.style.use(\"bmh\")\n",
    "plt.rcParams[\"figure.figsize\"] = (16, 5)"
   ]
  },
  {
   "cell_type": "code",
   "execution_count": null,
   "id": "3",
   "metadata": {},
   "outputs": [],
   "source": [
    "from arctix.dataset import breakfast\n",
    "from arctix.dataset.breakfast import Column"
   ]
  },
  {
   "cell_type": "code",
   "execution_count": null,
   "id": "4",
   "metadata": {},
   "outputs": [],
   "source": [
    "# Define the path where to store/load the raw data\n",
    "data_path = Path(os.environ[\"ARCTIX_DATA_PATH\"]).joinpath(\"breakfast\")"
   ]
  },
  {
   "cell_type": "markdown",
   "id": "5",
   "metadata": {},
   "source": [
    "## Load raw data\n",
    "\n",
    "You can use the function `arctix.dataset.breakfast.fetch_data` to load the raw data in a `polars.DataFrame` format. \n",
    "Note that if the data was not downloaded in the dataset path, the `fetch_data` function automatically downloads the data. "
   ]
  },
  {
   "cell_type": "code",
   "execution_count": null,
   "id": "6",
   "metadata": {},
   "outputs": [],
   "source": [
    "data_raw = breakfast.fetch_data(data_path, \"segmentation_coarse\")\n",
    "data_raw"
   ]
  },
  {
   "cell_type": "code",
   "execution_count": null,
   "id": "7",
   "metadata": {},
   "outputs": [],
   "source": [
    "data_raw.describe()"
   ]
  },
  {
   "cell_type": "markdown",
   "id": "8",
   "metadata": {},
   "source": [
    "## Analyze raw data"
   ]
  },
  {
   "cell_type": "code",
   "execution_count": null,
   "id": "9",
   "metadata": {},
   "outputs": [],
   "source": [
    "group_len = data_raw.group_by([Column.PERSON, Column.COOKING_ACTIVITY]).len()\n",
    "group_len"
   ]
  },
  {
   "cell_type": "code",
   "execution_count": null,
   "id": "10",
   "metadata": {},
   "outputs": [],
   "source": [
    "max_len = group_len.select(pl.col(\"len\")).max().item()\n",
    "min_len = group_len.select(pl.col(\"len\")).min().item()\n",
    "nbins = max_len - min_len + 1\n",
    "\n",
    "fig, ax = plt.subplots()\n",
    "_ = ax.hist(group_len.select(pl.col(\"len\")), bins=nbins, range=[min_len, max_len])\n",
    "\n",
    "_ = ax.set_title(\"distribution of sequence length\")\n",
    "_ = ax.set_xlabel(\"sequence length\")\n",
    "_ = ax.set_ylabel(\"count\")"
   ]
  },
  {
   "cell_type": "code",
   "execution_count": null,
   "id": "11",
   "metadata": {},
   "outputs": [],
   "source": [
    "num_activities = data_raw.select(pl.col(Column.COOKING_ACTIVITY)).n_unique()\n",
    "fig, ax = plt.subplots()\n",
    "_ = ax.hist(data_raw.select(pl.col(Column.COOKING_ACTIVITY)), bins=num_activities)\n",
    "\n",
    "_ = ax.set_title(\"distribution of cooking activities\")\n",
    "_ = ax.set_xlabel(\"cooking activity\")\n",
    "_ = ax.set_ylabel(\"count\")\n",
    "_ = ax.tick_params(axis=\"x\", labelrotation=90)"
   ]
  },
  {
   "cell_type": "code",
   "execution_count": null,
   "id": "12",
   "metadata": {},
   "outputs": [],
   "source": [
    "num_actions = data_raw.select(pl.col(Column.ACTION)).n_unique()\n",
    "fig, ax = plt.subplots()\n",
    "_ = ax.hist(data_raw.select(pl.col(Column.ACTION)), bins=num_actions)\n",
    "\n",
    "_ = ax.set_title(\"distribution of actions\")\n",
    "_ = ax.set_xlabel(\"action\")\n",
    "_ = ax.set_ylabel(\"count\")\n",
    "_ = ax.tick_params(axis=\"x\", labelrotation=90)"
   ]
  },
  {
   "cell_type": "markdown",
   "id": "13",
   "metadata": {},
   "source": [
    "## Prepare data"
   ]
  },
  {
   "cell_type": "code",
   "execution_count": null,
   "id": "14",
   "metadata": {},
   "outputs": [],
   "source": [
    "data, metadata = breakfast.prepare_data(data_raw)\n",
    "data"
   ]
  },
  {
   "cell_type": "code",
   "execution_count": null,
   "id": "15",
   "metadata": {},
   "outputs": [],
   "source": [
    "arrays = breakfast.to_array(data)"
   ]
  },
  {
   "cell_type": "code",
   "execution_count": null,
   "id": "16",
   "metadata": {},
   "outputs": [],
   "source": [
    "print(coola.summary(arrays))"
   ]
  },
  {
   "cell_type": "code",
   "execution_count": null,
   "id": "17",
   "metadata": {},
   "outputs": [],
   "source": [
    "print(str_mapping(arrays))"
   ]
  },
  {
   "cell_type": "code",
   "execution_count": null,
   "id": "18",
   "metadata": {},
   "outputs": [],
   "source": [
    "data_list = breakfast.to_list(data)"
   ]
  },
  {
   "cell_type": "code",
   "execution_count": null,
   "id": "19",
   "metadata": {},
   "outputs": [],
   "source": [
    "for key, value in data_list.items():\n",
    "    print(key, value[:3])"
   ]
  }
 ],
 "metadata": {
  "kernelspec": {
   "display_name": "Python 3 (ipykernel)",
   "language": "python",
   "name": "python3"
  },
  "language_info": {
   "codemirror_mode": {
    "name": "ipython",
    "version": 3
   },
   "file_extension": ".py",
   "mimetype": "text/x-python",
   "name": "python",
   "nbconvert_exporter": "python",
   "pygments_lexer": "ipython3",
   "version": "3.12.2"
  }
 },
 "nbformat": 4,
 "nbformat_minor": 5
}
