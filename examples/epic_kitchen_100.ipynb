{
 "cells": [
  {
   "cell_type": "code",
   "execution_count": null,
   "id": "0",
   "metadata": {},
   "outputs": [],
   "source": [
    "%matplotlib inline"
   ]
  },
  {
   "cell_type": "code",
   "execution_count": null,
   "id": "1",
   "metadata": {},
   "outputs": [],
   "source": [
    "import os\n",
    "import matplotlib.pyplot as plt\n",
    "import polars as pl\n",
    "from pathlib import Path\n",
    "\n",
    "import coola\n",
    "from coola.utils import str_mapping\n",
    "from collections import Counter"
   ]
  },
  {
   "cell_type": "code",
   "execution_count": null,
   "id": "2",
   "metadata": {},
   "outputs": [],
   "source": [
    "plt.style.use(\"bmh\")\n",
    "plt.rcParams[\"figure.figsize\"] = (16, 5)"
   ]
  },
  {
   "cell_type": "code",
   "execution_count": null,
   "id": "3",
   "metadata": {},
   "outputs": [],
   "source": [
    "from arctix.dataset import epic_kitchen_100\n",
    "from arctix.dataset.epic_kitchen_100 import Column\n",
    "from arctix.utils.ngram import find_seq_ngrams, plot_ngrams"
   ]
  },
  {
   "cell_type": "code",
   "execution_count": null,
   "id": "4",
   "metadata": {},
   "outputs": [],
   "source": [
    "# Define the path where to store/load the raw data\n",
    "data_path = Path(os.environ[\"ARCTIX_DATA_PATH\"]).joinpath(\"epic_kitchen_100\")"
   ]
  },
  {
   "cell_type": "code",
   "execution_count": null,
   "id": "5",
   "metadata": {},
   "outputs": [],
   "source": [
    "# config = pl.Config.set_tbl_cols(-1).set_tbl_rows(10).set_tbl_width_chars(100).set_fmt_table_cell_list_len(100)"
   ]
  },
  {
   "cell_type": "markdown",
   "id": "6",
   "metadata": {},
   "source": [
    "## Load raw data"
   ]
  },
  {
   "cell_type": "code",
   "execution_count": null,
   "id": "7",
   "metadata": {},
   "outputs": [],
   "source": [
    "data_raw, metadata_raw = epic_kitchen_100.fetch_data(data_path, split=\"train\")\n",
    "data_raw"
   ]
  },
  {
   "cell_type": "code",
   "execution_count": null,
   "id": "8",
   "metadata": {},
   "outputs": [],
   "source": [
    "data_raw.describe()"
   ]
  },
  {
   "cell_type": "code",
   "execution_count": null,
   "id": "9",
   "metadata": {},
   "outputs": [],
   "source": [
    "data_raw.filter(pl.col(\"all_nouns\").list.len() > 1)"
   ]
  },
  {
   "cell_type": "code",
   "execution_count": null,
   "id": "10",
   "metadata": {},
   "outputs": [],
   "source": [
    "print(str_mapping(metadata_raw))"
   ]
  },
  {
   "cell_type": "markdown",
   "id": "11",
   "metadata": {},
   "source": [
    "## Analyze raw data"
   ]
  },
  {
   "cell_type": "code",
   "execution_count": null,
   "id": "12",
   "metadata": {},
   "outputs": [],
   "source": [
    "group_len = data_raw.group_by([Column.VIDEO_ID]).len()\n",
    "group_len"
   ]
  },
  {
   "cell_type": "code",
   "execution_count": null,
   "id": "13",
   "metadata": {},
   "outputs": [],
   "source": [
    "max_len = group_len.select(pl.col(\"len\")).max().item()\n",
    "min_len = group_len.select(pl.col(\"len\")).min().item()\n",
    "nbins = max_len - min_len + 1\n",
    "print(f\"min={min_len}  max={max_len}  nbins={nbins}\")\n",
    "\n",
    "fig, ax = plt.subplots()\n",
    "_ = ax.hist(group_len.select(pl.col(\"len\")), bins=nbins, range=[min_len, max_len])\n",
    "\n",
    "_ = ax.set_title(\"distribution of sequence length\")\n",
    "_ = ax.set_xlabel(\"sequence length\")\n",
    "_ = ax.set_ylabel(\"count\")"
   ]
  },
  {
   "cell_type": "code",
   "execution_count": null,
   "id": "14",
   "metadata": {},
   "outputs": [],
   "source": [
    "col = Column.VERB\n",
    "num_actions = data_raw.select(pl.col(col)).n_unique()\n",
    "fig, ax = plt.subplots()\n",
    "_ = ax.hist(data_raw.select(pl.col(col)), bins=num_actions)\n",
    "\n",
    "_ = ax.set_title(\"distribution of actions\")\n",
    "_ = ax.set_xlabel(\"action\")\n",
    "_ = ax.set_ylabel(\"count\")\n",
    "_ = ax.tick_params(axis=\"x\", labelrotation=90)"
   ]
  },
  {
   "cell_type": "markdown",
   "id": "15",
   "metadata": {},
   "source": [
    "## Prepare data"
   ]
  },
  {
   "cell_type": "code",
   "execution_count": null,
   "id": "16",
   "metadata": {},
   "outputs": [],
   "source": [
    "data, metadata = epic_kitchen_100.prepare_data(data_raw, metadata_raw)\n",
    "data"
   ]
  },
  {
   "cell_type": "code",
   "execution_count": null,
   "id": "17",
   "metadata": {},
   "outputs": [],
   "source": [
    "print(str_mapping(metadata))"
   ]
  },
  {
   "cell_type": "code",
   "execution_count": null,
   "id": "18",
   "metadata": {},
   "outputs": [],
   "source": [
    "arrays = epic_kitchen_100.to_array(data)"
   ]
  },
  {
   "cell_type": "code",
   "execution_count": null,
   "id": "19",
   "metadata": {},
   "outputs": [],
   "source": [
    "print(coola.summary(arrays))"
   ]
  },
  {
   "cell_type": "code",
   "execution_count": null,
   "id": "20",
   "metadata": {},
   "outputs": [],
   "source": [
    "print(str_mapping(arrays))"
   ]
  },
  {
   "cell_type": "code",
   "execution_count": null,
   "id": "21",
   "metadata": {},
   "outputs": [],
   "source": [
    "data_list = epic_kitchen_100.to_list(data)"
   ]
  },
  {
   "cell_type": "code",
   "execution_count": null,
   "id": "22",
   "metadata": {},
   "outputs": [],
   "source": [
    "for key, value in data_list.items():\n",
    "    print(key, value[:3])"
   ]
  },
  {
   "cell_type": "markdown",
   "id": "23",
   "metadata": {},
   "source": [
    "## Analyze n-grams"
   ]
  },
  {
   "cell_type": "code",
   "execution_count": null,
   "id": "24",
   "metadata": {},
   "outputs": [],
   "source": [
    "ngrams = find_seq_ngrams(data_list[\"verb\"], n=2)\n",
    "counter = Counter(ngrams)\n",
    "counter.most_common(10)"
   ]
  },
  {
   "cell_type": "code",
   "execution_count": null,
   "id": "25",
   "metadata": {},
   "outputs": [],
   "source": [
    "fig, ax = plt.subplots(figsize=(16, 16))\n",
    "plot_ngrams(ngrams, ax=ax)"
   ]
  }
 ],
 "metadata": {
  "kernelspec": {
   "display_name": "Python 3 (ipykernel)",
   "language": "python",
   "name": "python3"
  },
  "language_info": {
   "codemirror_mode": {
    "name": "ipython",
    "version": 3
   },
   "file_extension": ".py",
   "mimetype": "text/x-python",
   "name": "python",
   "nbconvert_exporter": "python",
   "pygments_lexer": "ipython3",
   "version": "3.12.3"
  }
 },
 "nbformat": 4,
 "nbformat_minor": 5
}
